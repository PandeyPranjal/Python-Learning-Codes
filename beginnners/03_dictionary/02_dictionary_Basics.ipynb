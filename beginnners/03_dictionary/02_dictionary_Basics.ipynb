{
 "cells": [
  {
   "cell_type": "code",
   "execution_count": 10,
   "id": "aa2931f9",
   "metadata": {},
   "outputs": [
    {
     "name": "stdout",
     "output_type": "stream",
     "text": [
      "{'Name': 'Pranjal ', 'Age': 20, 'City': 'Akbarpur'}\n"
     ]
    }
   ],
   "source": [
    "# 1. Create a dictionary with at least three key-value pairs.\n",
    "my_dict={\n",
    "    \"Name\": \"Pranjal \", \n",
    "    \"Age\": 20, \n",
    "    \"City\": \"Akbarpur\"\n",
    "}\n",
    "print(my_dict)"
   ]
  },
  {
   "cell_type": "code",
   "execution_count": 11,
   "id": "ac330c60",
   "metadata": {},
   "outputs": [
    {
     "name": "stdout",
     "output_type": "stream",
     "text": [
      "20\n"
     ]
    }
   ],
   "source": [
    "# 2. Access a value using its key from a dictionary.\n",
    "my_dict={\n",
    "    \"Name\": \"Pranjal \", \n",
    "    \"Age\": 20, \n",
    "    \"City\": \"Akbarpur\"\n",
    "}\n",
    "print(my_dict[\"Age\"])"
   ]
  },
  {
   "cell_type": "code",
   "execution_count": 1,
   "id": "53d4008b",
   "metadata": {},
   "outputs": [
    {
     "name": "stdout",
     "output_type": "stream",
     "text": [
      "{'Name': 'Pranjal ', 'Age': 20, 'City': 'Akbarpur', 'House No': 234}\n"
     ]
    }
   ],
   "source": [
    "# 3. Add a new key-value pair to an existing dictionary.\n",
    "my_dict={\n",
    "    \"Name\": \"Pranjal \", \n",
    "    \"Age\": 20, \n",
    "    \"City\": \"Akbarpur\"\n",
    "}\n",
    "my_dict[\"House No\"]=234\n",
    "print(my_dict)"
   ]
  },
  {
   "cell_type": "code",
   "execution_count": 13,
   "id": "ed5d2907",
   "metadata": {},
   "outputs": [
    {
     "name": "stdout",
     "output_type": "stream",
     "text": [
      "{'Age': 20, 'City': 'Akbarpur'}\n"
     ]
    }
   ],
   "source": [
    "# 4. Remove a key-value pair from a dictionary.\n",
    "my_dict={\n",
    "    \"Name\": \"Pranjal \", \n",
    "    \"Age\": 20, \n",
    "    \"City\": \"Akbarpur\"\n",
    "}\n",
    "# my_dict.pop(\"Age\") we use pop like list but in list pop removes last item and in dict we use pop-item() to remove last ele\n",
    "\n",
    "# my_dict.popitem()\n",
    "\n",
    "del my_dict[\"Name\"] #done by using del\n",
    "\n",
    "print(my_dict)"
   ]
  },
  {
   "cell_type": "code",
   "execution_count": 14,
   "id": "bb198abf",
   "metadata": {},
   "outputs": [
    {
     "name": "stdout",
     "output_type": "stream",
     "text": [
      "Yes it exists\n"
     ]
    }
   ],
   "source": [
    "# 5. Check if a specific key exists in a dictionary.\n",
    "my_dict={\n",
    "    \"Name\": \"Pranjal \", \n",
    "    \"Age\": 20, \n",
    "    \"City\": \"Akbarpur\"\n",
    "}\n",
    "if \"Name\" in my_dict:\n",
    "    print(\"Yes it exists\")\n",
    "else: \n",
    "    print(\"Not Exists\")"
   ]
  },
  {
   "cell_type": "code",
   "execution_count": 15,
   "id": "c53c8372",
   "metadata": {},
   "outputs": [
    {
     "name": "stdout",
     "output_type": "stream",
     "text": [
      "3\n"
     ]
    }
   ],
   "source": [
    "# 6. Get the length of a dictionary.\n",
    "my_dict={\n",
    "    \"Name\": \"Pranjal \", \n",
    "    \"Age\": 20, \n",
    "    \"City\": \"Akbarpur\"\n",
    "}\n",
    "print(len(my_dict))"
   ]
  },
  {
   "cell_type": "code",
   "execution_count": 1,
   "id": "97042023",
   "metadata": {},
   "outputs": [
    {
     "name": "stdout",
     "output_type": "stream",
     "text": [
      "{'Name': ['Pranjal', 18, 'India'], 'Age': ['Pranjal', 18, 'India'], 'Coutry': ['Pranjal', 18, 'India']}\n"
     ]
    }
   ],
   "source": [
    "# 7. Create a dictionary from two lists: one for keys and one for values.\n",
    "dicto=[\"Name\", \"Age\", \"Coutry\"]\n",
    "values=[\"Pranjal\", 18, \"India\"]\n",
    "my_dict= dict.fromkeys(dicto, values)\n",
    "print(my_dict)\n"
   ]
  },
  {
   "cell_type": "code",
   "execution_count": 2,
   "id": "1fd869a8",
   "metadata": {},
   "outputs": [
    {
     "name": "stdout",
     "output_type": "stream",
     "text": [
      "dict_keys(['Name', 'Age', 'City'])\n",
      "['Name', 'Age', 'City']\n"
     ]
    }
   ],
   "source": [
    "\n",
    "# 8. Retrieve all keys from a dictionary.\n",
    "my_dict={\n",
    "    \"Name\": \"Pranjal \", \n",
    "    \"Age\": 20, \n",
    "    \"City\": \"Akbarpur\"\n",
    "}\n",
    "keys=my_dict.keys()\n",
    "print(keys)\n",
    "print(list(keys))"
   ]
  },
  {
   "cell_type": "code",
   "execution_count": 5,
   "id": "a3238a71",
   "metadata": {},
   "outputs": [
    {
     "name": "stdout",
     "output_type": "stream",
     "text": [
      "dict_values(['Pranjal ', 20, 'Akbarpur'])\n",
      "['Pranjal ', 20, 'Akbarpur']\n"
     ]
    }
   ],
   "source": [
    "# 9. Retrieve all values from a dictionary.\n",
    "my_dict={\n",
    "    \"Name\": \"Pranjal \", \n",
    "    \"Age\": 20, \n",
    "    \"City\": \"Akbarpur\"\n",
    "}\n",
    "values=my_dict.values()\n",
    "print(values)\n",
    "print(list(values))"
   ]
  },
  {
   "cell_type": "code",
   "execution_count": 6,
   "id": "84707b7b",
   "metadata": {},
   "outputs": [
    {
     "name": "stdout",
     "output_type": "stream",
     "text": [
      "{'Name': 'Pranjal ', 'Age': 20, 'City': 'Akbarpur'}\n"
     ]
    }
   ],
   "source": [
    "# 10. Merge two dictionaries into one.\n",
    "dict1={\"Name\": \"Pranjal\", \"Age\": 23}\n",
    "dict2={\"City\":\"Akbarpur\",\"Country\": \"India\"}\n",
    "dict1.update(dict2)\n",
    "print(my_dict)"
   ]
  },
  {
   "cell_type": "code",
   "execution_count": 5,
   "id": "27de0496",
   "metadata": {},
   "outputs": [
    {
     "name": "stdout",
     "output_type": "stream",
     "text": [
      "{'Person': {'Name': 'Pranjal', 'Work': 'Student', 'Roll No.': 23445}, 'River': {'Name': 'Ganga', 'Length': 234}}\n",
      "Ganga\n"
     ]
    }
   ],
   "source": [
    "# 11. Create a nested dictionary and access a value in it.\n",
    "dict1={\"Person\":{\n",
    "    \"Name\":\"Pranjal\",\n",
    "    \"Work\":\"Student\",\n",
    "    \"Roll No.\":23445\n",
    "},\n",
    "       \"River\":{\"Name\":\"Ganga\",\"Length\":234}}\n",
    "print(dict1)\n",
    "print(dict1[\"River\"][\"Name\"])"
   ]
  },
  {
   "cell_type": "code",
   "execution_count": 6,
   "id": "adeb7896",
   "metadata": {},
   "outputs": [
    {
     "name": "stdout",
     "output_type": "stream",
     "text": [
      "Pranjal\n"
     ]
    }
   ],
   "source": [
    "# 12. Use the `get` method to retrieve a value from a dictionary.\n",
    "dict1={\"Name\":\"Pranjal\"\n",
    "       , \"Age\": 23, \n",
    "       \"City\": \"Lucknow\"}\n",
    "print(dict1.get(\"Name\"))"
   ]
  },
  {
   "cell_type": "code",
   "execution_count": 8,
   "id": "04b4b56c",
   "metadata": {},
   "outputs": [
    {
     "name": "stdout",
     "output_type": "stream",
     "text": [
      "Not Found\n"
     ]
    }
   ],
   "source": [
    "# 13. Use a default value with the `get` method if the key does not exist.\n",
    "dict1={\"Name\":\"Pranjal\"\n",
    "       , \"Age\": 23, \n",
    "       \"City\": \"Lucknow\"}\n",
    "print(dict1.get(\"Country\", \"Not Found\"))"
   ]
  },
  {
   "cell_type": "code",
   "execution_count": 9,
   "id": "76482ae6",
   "metadata": {},
   "outputs": [
    {
     "name": "stdout",
     "output_type": "stream",
     "text": [
      "{'Apple': 23, 'Banana': 22, 'Papaya': 17}\n"
     ]
    }
   ],
   "source": [
    "# 14. Create a dictionary with string keys and integer values.\n",
    "Fruits={\"Apple\":23,\n",
    "        \"Banana\": 22, \n",
    "        \"Papaya\":17\n",
    "        }\n",
    "print(Fruits)"
   ]
  },
  {
   "cell_type": "code",
   "execution_count": 10,
   "id": "f7468275",
   "metadata": {},
   "outputs": [
    {
     "name": "stdout",
     "output_type": "stream",
     "text": [
      "{}\n"
     ]
    }
   ],
   "source": [
    "# 15. Clear all entries in a dictionary.\n",
    "my_dict={\"Name\":\"Pranjal\", \n",
    "         \"Age\":11,\n",
    "         \"City\": \"Lucknow\"}\n",
    "my_dict.clear()\n",
    "print(my_dict)"
   ]
  },
  {
   "cell_type": "code",
   "execution_count": 11,
   "id": "24d251c1",
   "metadata": {},
   "outputs": [
    {
     "name": "stdout",
     "output_type": "stream",
     "text": [
      "{'Name': 'Pranjal', 'Age': 11, 'City': 'Lucknow'}\n"
     ]
    }
   ],
   "source": [
    "# 16. Copy a dictionary to another dictionary.\n",
    "my_dict={\"Name\":\"Pranjal\", \n",
    "         \"Age\":11,\n",
    "         \"City\": \"Lucknow\"}\n",
    "copied_dict=my_dict.copy()\n",
    "print(copied_dict)  "
   ]
  },
  {
   "cell_type": "code",
   "execution_count": 15,
   "id": "f3286bd2",
   "metadata": {},
   "outputs": [
    {
     "name": "stdout",
     "output_type": "stream",
     "text": [
      "Name : Pranjal\n",
      "Age : 11\n",
      "City : Lucknow\n"
     ]
    }
   ],
   "source": [
    "# 17. Iterate through a dictionary and print each key-value pair.\n",
    "my_dict={\"Name\":\"Pranjal\", \n",
    "         \"Age\":11,\n",
    "         \"City\": \"Lucknow\"}\n",
    "for key, value in my_dict.items():\n",
    "    # print(key, value)\n",
    "    # or \n",
    "    print(key, \":\", value)"
   ]
  },
  {
   "cell_type": "code",
   "execution_count": 17,
   "id": "e9584583",
   "metadata": {},
   "outputs": [
    {
     "name": "stdout",
     "output_type": "stream",
     "text": [
      "{'Name': 'Pranjal', 'Age': 11, 'City': 'Akbarpur'}\n"
     ]
    }
   ],
   "source": [
    "# 18. Create a dictionary and update its value using the key.\n",
    "my_dict={\"Name\":\"Pranjal\", \n",
    "         \"Age\":11,\n",
    "         \"City\": \"Lucknow\"}\n",
    "my_dict[\"City\"]=\"Akbarpur\"\n",
    "print(my_dict)"
   ]
  },
  {
   "cell_type": "code",
   "execution_count": 19,
   "id": "725e1f3c",
   "metadata": {},
   "outputs": [
    {
     "name": "stdout",
     "output_type": "stream",
     "text": [
      "{'B': 1, 'a': 3, 'n': 2}\n"
     ]
    }
   ],
   "source": [
    "# 19. Write a function that counts the occurrences of each character in a string using a dictionary.\n",
    "def count_char(text):\n",
    "    char_count={}\n",
    "\n",
    "    for char in text:\n",
    "        if char in char_count:\n",
    "            char_count[char]+=1\n",
    "        else:\n",
    "            char_count[char]=1\n",
    "    return char_count\n",
    "\n",
    "print(count_char(\"Banana\"))"
   ]
  },
  {
   "cell_type": "code",
   "execution_count": 21,
   "id": "992e7fae",
   "metadata": {},
   "outputs": [
    {
     "name": "stdout",
     "output_type": "stream",
     "text": [
      "{1: 1, 2: 4, 3: 9, 4: 16, 5: 25}\n"
     ]
    }
   ],
   "source": [
    "# 20. Create a dictionary that maps numbers to their squares.\n",
    "\n",
    "\n",
    "squares={x:x**2 for x in range(1, 6)}\n",
    "print(squares)\n",
    "# squares={}\n",
    "# for num in range(1, 6):\n",
    "#     squares[num]=num*num\n",
    "# print(squares)"
   ]
  },
  {
   "cell_type": "code",
   "execution_count": null,
   "id": "70ce99b2",
   "metadata": {},
   "outputs": [
    {
     "name": "stdout",
     "output_type": "stream",
     "text": [
      "{'a': 1, 'b': 2, 'c': 3}\n"
     ]
    }
   ],
   "source": [
    "# 21. Use dictionary comprehension to create a dictionary from a list of tuples.\n",
    "tuple_list=[(\"a\", 1), (\"b\", 2), (\"c\", 3)]\n",
    "my_dict={key:value for key, value in tuple_list}\n",
    "print(my_dict)   #check this one "
   ]
  },
  {
   "cell_type": "code",
   "execution_count": 26,
   "id": "6f2ddce3",
   "metadata": {},
   "outputs": [
    {
     "name": "stdout",
     "output_type": "stream",
     "text": [
      "{'Pranjal': 22, 'Priya': 23, 'Vaara': 22}\n"
     ]
    }
   ],
   "source": [
    "# 22. Create a dictionary to store the names and ages of three people.\n",
    "\n",
    "# I think I have mistakenly made a nested dictionary not this complexity needed\n",
    "\n",
    "# my_dict={\"Person1\": {\"Name\": \"Pranjal\",\n",
    "#                      \"Age\":11}, \n",
    "#          \"Peroson2\":{\n",
    "#              \"Name\":\"Shagun Pandey\", \n",
    "#              \"Age\":22\n",
    "#           }, \n",
    "#          \"Person3\":{\"Name\":\"Divya\",\n",
    "#                     \"Age\":22}}\n",
    "# print(my_dict)\n",
    "# print(my_dict[\"Peroson2\"][\"Name\"])\n",
    "my_dict={\"Pranjal\":22,\n",
    "         \"Priya\":23,\n",
    "         \"Vaara\":22}\n",
    "print(my_dict)"
   ]
  },
  {
   "cell_type": "code",
   "execution_count": 29,
   "id": "ab70c052",
   "metadata": {},
   "outputs": [
    {
     "name": "stdout",
     "output_type": "stream",
     "text": [
      "The key divya doesn't exist \n"
     ]
    }
   ],
   "source": [
    "# 23. Access a non-existent key using the square brackets and handle the KeyError.\n",
    "my_dict={\"Pranjal\":22,\n",
    "         \"Priya\":23,\n",
    "         \"Vaara\":22}\n",
    "try:\n",
    "    print(my_dict[\"Divya\"])\n",
    "except KeyError:\n",
    "    print(\"The key divya doesn't exist \")"
   ]
  },
  {
   "cell_type": "code",
   "execution_count": 31,
   "id": "16e3c760",
   "metadata": {},
   "outputs": [
    {
     "name": "stdout",
     "output_type": "stream",
     "text": [
      "{'Pranjal': 22, 'Vaara': 22}\n"
     ]
    }
   ],
   "source": [
    "# 24. Use the `pop` method to remove a specific key from a dictionary.\n",
    "my_dict={\"Pranjal\":22,\n",
    "         \"Priya\":23,\n",
    "         \"Vaara\":22}\n",
    "my_dict.pop(\"Priya\")\n",
    "print(my_dict)"
   ]
  },
  {
   "cell_type": "code",
   "execution_count": 33,
   "id": "9109b5f7",
   "metadata": {},
   "outputs": [
    {
     "name": "stdout",
     "output_type": "stream",
     "text": [
      "Maximum key : 99\n",
      "Minimum key:  1\n"
     ]
    }
   ],
   "source": [
    "# 25. Find the maximum and minimum key in a dictionary.\n",
    "my_dict={\n",
    "    5:\"apple\", \n",
    "    9:\"Papaya\", \n",
    "    99:\"Grapes\",\n",
    "    1:\"Pomegranate\"\n",
    "}\n",
    "max_key=max(my_dict)\n",
    "print(\"Maximum key :\", max_key)\n",
    "min_key=min(my_dict)\n",
    "print(\"Minimum key: \", min_key)"
   ]
  }
 ],
 "metadata": {
  "kernelspec": {
   "display_name": "Python 3",
   "language": "python",
   "name": "python3"
  },
  "language_info": {
   "codemirror_mode": {
    "name": "ipython",
    "version": 3
   },
   "file_extension": ".py",
   "mimetype": "text/x-python",
   "name": "python",
   "nbconvert_exporter": "python",
   "pygments_lexer": "ipython3",
   "version": "3.13.5"
  }
 },
 "nbformat": 4,
 "nbformat_minor": 5
}
