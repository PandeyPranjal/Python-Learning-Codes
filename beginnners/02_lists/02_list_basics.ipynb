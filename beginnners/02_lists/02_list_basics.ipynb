{
 "cells": [
  {
   "cell_type": "code",
   "execution_count": 1,
   "id": "aea3707d",
   "metadata": {},
   "outputs": [
    {
     "name": "stdout",
     "output_type": "stream",
     "text": [
      "[1, 2, 3, 4, 5, 6, 7, 8, 9, 10]\n"
     ]
    }
   ],
   "source": [
    "# 1. Create a list of numbers from 1 to 10 and print it.\n",
    "nums=list(range(1, 11))\n",
    "print(nums)"
   ]
  },
  {
   "cell_type": "code",
   "execution_count": 2,
   "id": "be9ecc66",
   "metadata": {},
   "outputs": [
    {
     "name": "stdout",
     "output_type": "stream",
     "text": [
      "['Banana', 'Papaya', 'Guvava', 'Mango', 'Apple']\n"
     ]
    }
   ],
   "source": [
    "# 2. Add an element to a list using `append()`.\n",
    "fruits=[\"Banana\", \"Papaya\", \"Guvava\", \"Mango\"]\n",
    "fruits.append(\"Apple\")\n",
    "print(fruits)"
   ]
  },
  {
   "cell_type": "code",
   "execution_count": 3,
   "id": "bd23d453",
   "metadata": {},
   "outputs": [
    {
     "name": "stdout",
     "output_type": "stream",
     "text": [
      "Removed Element:  Mango\n",
      "After pop:  ['Banana', 'Papaya', 'Guvava']\n"
     ]
    }
   ],
   "source": [
    "# 3. Remove the last element of a list using `pop()`.\n",
    "fruits=[\"Banana\", \"Papaya\", \"Guvava\", \"Mango\"]\n",
    "pop_item=fruits.pop()\n",
    "print(\"Removed Element: \", pop_item)\n",
    "print(\"After pop: \",fruits)"
   ]
  },
  {
   "cell_type": "code",
   "execution_count": 4,
   "id": "4187c165",
   "metadata": {},
   "outputs": [
    {
     "name": "stdout",
     "output_type": "stream",
     "text": [
      "Guvava\n"
     ]
    }
   ],
   "source": [
    "# 4. Print the third element in a list of fruits.\n",
    "fruits=[\"Banana\", \"Papaya\", \"Guvava\", \"Mango\"]\n",
    "print(fruits[2])\n"
   ]
  },
  {
   "cell_type": "code",
   "execution_count": 5,
   "id": "f36b8777",
   "metadata": {},
   "outputs": [
    {
     "name": "stdout",
     "output_type": "stream",
     "text": [
      "['Banana', 'Papaya', 'Guvava', 'Mango', 'Cherry']\n"
     ]
    }
   ],
   "source": [
    "# 5. Use slicing to print the first 5 elements of a list.\n",
    "fruits=[\"Banana\", \"Papaya\", \"Guvava\", \"Mango\", \"Cherry\", \"Papaya\"]\n",
    "print(fruits[:5])"
   ]
  },
  {
   "cell_type": "code",
   "execution_count": 6,
   "id": "a9315f68",
   "metadata": {},
   "outputs": [
    {
     "name": "stdout",
     "output_type": "stream",
     "text": [
      "['Vaara', 'Anjali', 'Pari', 'Shagun', 'Divya', 'Pranjal']\n"
     ]
    }
   ],
   "source": [
    "# 6. Reverse a list of names.\n",
    "names=[\"Pranjal\", \"Divya\", \"Shagun\", \"Pari\", \"Anjali\", \"Vaara\"]\n",
    "# names.reverse()\n",
    "# print(names)\n",
    "# \"Reverse()\" makes changes in the origianl list \n",
    "\n",
    "#by using slicing as it creates a new list \n",
    "reversed_names=names[::-1]\n",
    "print(reversed_names)\n"
   ]
  },
  {
   "cell_type": "code",
   "execution_count": 7,
   "id": "504136db",
   "metadata": {},
   "outputs": [
    {
     "name": "stdout",
     "output_type": "stream",
     "text": [
      "3\n"
     ]
    }
   ],
   "source": [
    "# 7. Count the occurrences of a specific element in a list.\n",
    "# fruits=[\"Banana\", \"Papaya\", \"Guvava\",\"Guvava\",\"Guvava\",\"Guvava\", \"Mango\",   \"Cherry\", \"Cherry\", \"Papaya\"]\n",
    "\n",
    "# guvava_count= fruits.count(\"Guvava\")\n",
    "# print(guvava_count) done using count method\n",
    "\n",
    "\n",
    "\n",
    "fruits=[\"Banana\", \"Papaya\", \"Guvava\",\"Guvava\",\"Guvava\",\"Guvavava\", \"Mango\",   \"Cherry\", \"Cherry\", \"Papaya\"]\n",
    "count=0\n",
    "for i in fruits:\n",
    "    if  i == \"Guvava\":\n",
    "        count=count+1\n",
    "print(count)\n",
    "\n"
   ]
  },
  {
   "cell_type": "code",
   "execution_count": 8,
   "id": "1c3974f3",
   "metadata": {},
   "outputs": [
    {
     "name": "stdout",
     "output_type": "stream",
     "text": [
      "[0, 1, 2, 2, 9, 12, 23, 55, 99]\n"
     ]
    }
   ],
   "source": [
    "# 8. Sort a list of numbers in ascending order.\n",
    "# nums=[23, 2, 55, 2, 99, 9, 12, 0, 1]\n",
    "# nums.sort()\n",
    "# print(nums)\n",
    "# this was done using sort method and sorted() creates new sorted list\n",
    "nums=[23, 2, 55, 2, 99, 9, 12, 0, 1]\n",
    "sorted_nums= sorted(nums)\n",
    "print(sorted_nums)\n"
   ]
  },
  {
   "cell_type": "code",
   "execution_count": 9,
   "id": "8fd947d1",
   "metadata": {},
   "outputs": [
    {
     "name": "stdout",
     "output_type": "stream",
     "text": [
      "Minimum no. is :  0\n",
      "Maximum number is :  99\n"
     ]
    }
   ],
   "source": [
    "# 9. Find the minimum and maximum values in a list of numbers.\n",
    "nums=[23, 2, 55, 2, 99, 9, 12, 0, 1]\n",
    "minimum=min(nums)\n",
    "maximum=max(nums)\n",
    "print(\"Minimum no. is : \", minimum)\n",
    "print(\"Maximum number is : \", maximum)"
   ]
  },
  {
   "cell_type": "code",
   "execution_count": 10,
   "id": "aea826b0",
   "metadata": {},
   "outputs": [
    {
     "name": "stdout",
     "output_type": "stream",
     "text": [
      "['Banana', 'Papaya', 'Guvava', 'Guvava', 'Guvava', 'Guvavava', 'Mango', 'Cherry', 'Cherry', 'Papaya', 23, 2, 55, 2, 99, 9, 12, 0, 1]\n"
     ]
    }
   ],
   "source": [
    "# 10. Concatenate two lists and print the result.\n",
    "fruits=[\"Banana\", \"Papaya\", \"Guvava\",\"Guvava\",\"Guvava\",\"Guvavava\", \"Mango\",   \"Cherry\", \"Cherry\", \"Papaya\"]\n",
    "nums=[23, 2, 55, 2, 99, 9, 12, 0, 1]\n",
    "# concatList=fruits+nums\n",
    "# print(concatList)\n",
    "fruits.extend(nums)\n",
    "print(fruits)"
   ]
  },
  {
   "cell_type": "code",
   "execution_count": 11,
   "id": "f4de3a54",
   "metadata": {},
   "outputs": [
    {
     "name": "stdout",
     "output_type": "stream",
     "text": [
      "[1, 4, 9, 16, 25, 36, 49, 64, 81, 100]\n"
     ]
    }
   ],
   "source": [
    "# 11. Create a list of the squares of numbers from 1 to 10.\n",
    "squared_num=[x**2 for x in range (1, 11)]\n",
    "print(squared_num)"
   ]
  },
  {
   "cell_type": "code",
   "execution_count": 12,
   "id": "1b7fe365",
   "metadata": {},
   "outputs": [
    {
     "name": "stdout",
     "output_type": "stream",
     "text": [
      "Yes.. it is present \n"
     ]
    }
   ],
   "source": [
    "# 12. Check if a particular element exists in a list.\n",
    "fruits=[\"Banana\", \"Papaya\", \"Guvava\",  \"Mango\",  \"Cherry\", \"Papaya\"]\n",
    "if \"Banana\" in fruits:\n",
    "    print(\"Yes.. it is present \")\n",
    "else:\n",
    "    print(\" It doesn't exist\")"
   ]
  },
  {
   "cell_type": "code",
   "execution_count": 13,
   "id": "02f3a912",
   "metadata": {},
   "outputs": [
    {
     "name": "stdout",
     "output_type": "stream",
     "text": [
      "The index of the elemnt is :  1\n"
     ]
    }
   ],
   "source": [
    "# 13. Find the index of a given element in a list.\n",
    "fruits=[\"Banana\", \"Papaya\", \"Guvava\",  \"Mango\",  \"Cherry\", \"Papaya\"]\n",
    "indexNo=fruits.index(\"Papaya\")\n",
    "print(\"The index of the elemnt is : \", indexNo) #Note: Indexing starts from zero "
   ]
  },
  {
   "cell_type": "code",
   "execution_count": 14,
   "id": "0c1d9ecb",
   "metadata": {},
   "outputs": [
    {
     "name": "stdout",
     "output_type": "stream",
     "text": [
      "['Banana', 'Papaya', 'Guvava', 'Mango', 'Cherry', 'Papaya']\n"
     ]
    }
   ],
   "source": [
    "# 14. Copy a list into another list.\n",
    "fruits=[\"Banana\", \"Papaya\", \"Guvava\",  \"Mango\",  \"Cherry\", \"Papaya\"]\n",
    "# copiedList=fruits.copy()\n",
    "# print(copiedList)\n",
    "\n",
    "copiedList=fruits[:]\n",
    "print(copiedList)"
   ]
  },
  {
   "cell_type": "code",
   "execution_count": 15,
   "id": "f98daf76",
   "metadata": {},
   "outputs": [
    {
     "name": "stdout",
     "output_type": "stream",
     "text": [
      "['Banana', 'Papaya', 'Guvava', 'Mango', 'Papaya']\n"
     ]
    }
   ],
   "source": [
    "# 15. Remove an item by its value instead of index.\n",
    "fruits=[\"Banana\", \"Papaya\", \"Guvava\",  \"Mango\",  \"Cherry\", \"Papaya\"]\n",
    "fruits.remove(\"Cherry\")\n",
    "print(fruits)"
   ]
  }
 ],
 "metadata": {
  "kernelspec": {
   "display_name": "Python 3",
   "language": "python",
   "name": "python3"
  },
  "language_info": {
   "codemirror_mode": {
    "name": "ipython",
    "version": 3
   },
   "file_extension": ".py",
   "mimetype": "text/x-python",
   "name": "python",
   "nbconvert_exporter": "python",
   "pygments_lexer": "ipython3",
   "version": "3.13.5"
  }
 },
 "nbformat": 4,
 "nbformat_minor": 5
}
