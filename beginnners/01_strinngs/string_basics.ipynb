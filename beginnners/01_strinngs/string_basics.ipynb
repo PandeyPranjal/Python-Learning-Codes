{
 "cells": [
  {
   "cell_type": "code",
   "execution_count": 1,
   "id": "b8200932",
   "metadata": {},
   "outputs": [
    {
     "name": "stdout",
     "output_type": "stream",
     "text": [
      "lajnarP\n"
     ]
    }
   ],
   "source": [
    "# 1. Write a Python program to reverse a string. \n",
    "a=\"Pranjal\"\n",
    "print(a[::-1])"
   ]
  },
  {
   "cell_type": "code",
   "execution_count": 2,
   "id": "2af5c249",
   "metadata": {},
   "outputs": [
    {
     "name": "stdout",
     "output_type": "stream",
     "text": [
      "Palendrom \n"
     ]
    }
   ],
   "source": [
    "# How do you check if a string is a palindrome?\n",
    "s=input(\"Enter the input: \")\n",
    "reversed_s= s[::-1]\n",
    "if (s== reversed_s):\n",
    "    print(\"Palendrom \")\n",
    "else:\n",
    "    print(\"Not Palendrome\")"
   ]
  },
  {
   "cell_type": "code",
   "execution_count": 3,
   "id": "67493811",
   "metadata": {},
   "outputs": [
    {
     "name": "stdout",
     "output_type": "stream",
     "text": [
      "0\n"
     ]
    }
   ],
   "source": [
    "# 3. Write a Python function to count the number of vowels in a string. \n",
    "\n",
    "a=input(\"Enter the Word: \")\n",
    "vowel=\"aeiouAEIOU\"\n",
    "count=0\n",
    "for i in a:\n",
    "    if i in vowel:\n",
    "        count+=1\n",
    "print(count)\n",
    "        "
   ]
  },
  {
   "cell_type": "code",
   "execution_count": 4,
   "id": "9e0837bf",
   "metadata": {},
   "outputs": [
    {
     "name": "stdout",
     "output_type": "stream",
     "text": [
      "0\n"
     ]
    }
   ],
   "source": [
    "# 4. How do you find the length of a string in Python?\n",
    "# str=input(\"Enter the string: \")\n",
    "# print(len(str))\n",
    "\n",
    "str=input(\"Enter the String: \")\n",
    "count=0\n",
    "for i in str:\n",
    "    count=count+1\n",
    "print(count)"
   ]
  },
  {
   "cell_type": "code",
   "execution_count": 5,
   "id": "a3787092",
   "metadata": {},
   "outputs": [
    {
     "name": "stdout",
     "output_type": "stream",
     "text": [
      " \n"
     ]
    }
   ],
   "source": [
    "# 5. Write a program to concatenate two strings\n",
    "\n",
    "str1=input(\"Enter the first String: \")\n",
    "str2=input(\"Enter the 2nd String: \")\n",
    "print(str1+\" \"+str2) #for giving space we r using \" \" (space too b/w them)\n"
   ]
  },
  {
   "cell_type": "code",
   "execution_count": null,
   "id": "e91c1d16",
   "metadata": {},
   "outputs": [],
   "source": [
    "# 6. How do you convert a string to uppercase in Python? \n",
    "str1=input(\"etner the string:\")\n",
    "print(str1.upper())"
   ]
  },
  {
   "cell_type": "code",
   "execution_count": null,
   "id": "4ad3f750",
   "metadata": {},
   "outputs": [],
   "source": [
    "# 7. Write a Python program to check if a substring exists within a string.\n",
    "st1=input(\" Enter the string: \")\n",
    "st2 =input(\"Enter the sub string: \")\n",
    "if(st2.lower() in st1.lower()):\n",
    "    print(\"The substring exist..\")\n",
    "else:\n",
    "    print(\"Not exists\")"
   ]
  },
  {
   "cell_type": "code",
   "execution_count": null,
   "id": "918bda70",
   "metadata": {},
   "outputs": [],
   "source": [
    "# 8. How do you replace a substring within a string in Python?\n",
    "text =input(\"enter a text: \")\n",
    "old=input(\"Enter the word u want to be replaced: \")\n",
    "new=input(\" Enter the new word: \")\n",
    "print(text.replace(old, new))"
   ]
  },
  {
   "cell_type": "code",
   "execution_count": null,
   "id": "be6b2790",
   "metadata": {},
   "outputs": [],
   "source": [
    "# 9. Write a function to check if two strings are anagrams\n",
    "\n",
    "def is_anagram(str1, str2):\n",
    "    str1=str1.replace(\" \", \"\").lower()\n",
    "    str2=str2.replace(\" \" ,\"\").lower()\n",
    "\n",
    "    return sorted(str1) ==  sorted(str2)\n",
    "str1= input(\"Enter the first string: \")\n",
    "str2=input(\"Enter the second string: \")\n",
    "if is_anagram(str1, str2):\n",
    "    print(\"Yes! anagram\")\n",
    "else:\n",
    "    print(\"Not  Anagram\")"
   ]
  },
  {
   "cell_type": "code",
   "execution_count": null,
   "id": "751138cb",
   "metadata": {},
   "outputs": [],
   "source": [
    "# 10. How do you split a string into a list of words?\n",
    "sentence = input(\"Enter the string: \")\n",
    "sentence.split()"
   ]
  },
  {
   "cell_type": "code",
   "execution_count": null,
   "id": "2592a81c",
   "metadata": {},
   "outputs": [],
   "source": [
    "# 11. Write a program to count the frequency of each character in a string\n",
    "str1=input(\"Enter the string: \")\n",
    "counted=\"\"\n",
    "for i in str1:\n",
    "    if i not in counted:\n",
    "        count=str1.count(i)\n",
    "        print(i, count)\n",
    "        counted += i\n",
    "\n",
    "        "
   ]
  },
  {
   "cell_type": "code",
   "execution_count": null,
   "id": "2aa64a11",
   "metadata": {},
   "outputs": [],
   "source": [
    "\n",
    "# 12. How do you remove leading and trailing whitespaces from a string? \n",
    "str1=input(\"Enter the string: \")\n",
    "print(str1.strip())"
   ]
  },
  {
   "cell_type": "code",
   "execution_count": null,
   "id": "7192bb9a",
   "metadata": {},
   "outputs": [],
   "source": [
    "# 13. Write a function to find the first non-repeated character in a string.\n",
    "str1=input(\"Enter string: \")\n",
    "for i in str1:\n",
    "    if str1.count(i)==1:\n",
    "        print(\"the first  unique val: \", i)\n",
    "        break\n",
    "else:\n",
    "    print(\"no unique value\")"
   ]
  },
  {
   "cell_type": "code",
   "execution_count": null,
   "id": "60a9f77c",
   "metadata": {},
   "outputs": [],
   "source": [
    "# 14. How do you sort the characters of a string alphabetically?\n",
    "str1=input(\"Enter the string: \")\n",
    "sorted_str=sorted(str1)\n",
    "l_list=\"\".join(sorted_str)\n",
    "print(l_list)"
   ]
  },
  {
   "cell_type": "code",
   "execution_count": null,
   "id": "65427f16",
   "metadata": {},
   "outputs": [],
   "source": [
    "# 15. Write a program to check if a string contains only digits\n",
    "str1=input(\"Enter the string: \")\n",
    "if str1.isdigit():\n",
    "    print(\"It contains only digits\")\n",
    "else:\n",
    "    print(\"Nahh...\")"
   ]
  },
  {
   "cell_type": "code",
   "execution_count": null,
   "id": "6d726955",
   "metadata": {},
   "outputs": [],
   "source": [
    "# 16. How do you find the index of a substring in a string?\n",
    "str=input(\"Enter the srting:\")\n",
    "sub_str=input(\"Enter the subString: \")\n",
    "index=str.find(sub_str)\n",
    "if index !=-1:\n",
    "    print(f\"SubString found at {index} index\")\n",
    "else:\n",
    "    print(\"SubString not fount\")"
   ]
  },
  {
   "cell_type": "code",
   "execution_count": null,
   "id": "c657fb24",
   "metadata": {},
   "outputs": [],
   "source": [
    "\n",
    "# 17. Write a function to convert a string to title case\n",
    "str=input(\"Enter the String: \")\n",
    "print(str.title())\n",
    "\n"
   ]
  },
  {
   "cell_type": "code",
   "execution_count": null,
   "id": "bc7c1fba",
   "metadata": {},
   "outputs": [],
   "source": [
    "# 18. How do you check if a string starts with a specific substring?\n",
    "str=input(\"Enter the string: \")\n",
    "sub=input(\"Enter the substring: \")\n",
    "if str.startswith(sub):\n",
    "    print(\"String starts with substring\")\n",
    "else:\n",
    "    print(\"No.. It doesn't start with substring\")"
   ]
  },
  {
   "cell_type": "code",
   "execution_count": null,
   "id": "963301eb",
   "metadata": {},
   "outputs": [
    {
     "name": "stdout",
     "output_type": "stream",
     "text": [
      "\n"
     ]
    }
   ],
   "source": [
    "# 19. Write a program to reverse the words in a string. \n",
    "\n",
    "str1=input(\"Enter the string: \")\n",
    "words=str1.split()\n",
    "reversed_words=words[::-1]\n",
    "result=\" \".join(reversed_words)\n",
    "print(result)"
   ]
  },
  {
   "cell_type": "code",
   "execution_count": null,
   "id": "35e97958",
   "metadata": {},
   "outputs": [],
   "source": [
    "# 20. How do you count the occurrences of a specific character in a string?\n",
    "\n",
    "str1=input(\"Enter the string: \")\n",
    "char_to_find=input(\" Enter the character you want to find: \")\n",
    "count=0\n",
    "for i in str1:\n",
    "    if i == char_to_find:\n",
    "        count=count+1\n",
    "print(f\"The character {char_to_find} has occurred {count} times \")"
   ]
  }
 ],
 "metadata": {
  "kernelspec": {
   "display_name": "Python 3",
   "language": "python",
   "name": "python3"
  },
  "language_info": {
   "codemirror_mode": {
    "name": "ipython",
    "version": 3
   },
   "file_extension": ".py",
   "mimetype": "text/x-python",
   "name": "python",
   "nbconvert_exporter": "python",
   "pygments_lexer": "ipython3",
   "version": "3.13.5"
  }
 },
 "nbformat": 4,
 "nbformat_minor": 5
}
