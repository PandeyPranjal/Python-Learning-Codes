{
 "cells": [
  {
   "cell_type": "code",
   "execution_count": 2,
   "id": "4f9a7189",
   "metadata": {},
   "outputs": [
    {
     "name": "stdout",
     "output_type": "stream",
     "text": [
      "(1, 2, 3, 4, 5, 6, 7, 8, 9, 10)\n"
     ]
    }
   ],
   "source": [
    "# 1. Create a tuple with numbers from 1 to 10. Print the tuple.\n",
    "nums=(1, 2, 3, 4, 5, 6, 7, 8, 9, 10)\n",
    "print(nums)"
   ]
  },
  {
   "cell_type": "code",
   "execution_count": 10,
   "id": "014aced2",
   "metadata": {},
   "outputs": [
    {
     "name": "stdout",
     "output_type": "stream",
     "text": [
      "<class 'tuple'>\n"
     ]
    }
   ],
   "source": [
    "# 2. Create a tuple with a single element. Verify it is a tuple.\n",
    "ele = (1,)\n",
    "print(type(ele)) #without comma python will treat as a value inside paranthesis"
   ]
  },
  {
   "cell_type": "code",
   "execution_count": 14,
   "id": "8141590a",
   "metadata": {},
   "outputs": [
    {
     "name": "stdout",
     "output_type": "stream",
     "text": [
      "Firt element: 1\n",
      "Last element:  7\n"
     ]
    }
   ],
   "source": [
    "# 3. Access the first and last elements of a given tuple.\n",
    "nums=(1, 2, 5, 7 )\n",
    "print(\"Firt element:\",  nums[0])\n",
    "print(\"Last element: \", nums[-1]) "
   ]
  },
  {
   "cell_type": "code",
   "execution_count": 18,
   "id": "6bcf27e7",
   "metadata": {},
   "outputs": [
    {
     "name": "stdout",
     "output_type": "stream",
     "text": [
      "no it doesn't\n"
     ]
    }
   ],
   "source": [
    "# 4. Check if an element exists within a tuple.\n",
    "my_tup=(\"Banana\", 2,  \"Apple\", \"Orange\")\n",
    "if \"Banana\" in my_tup:\n",
    "    print(\"Yes the elemtnt eists\")\n",
    "else:\n",
    "    print(\"no it doesn't\")"
   ]
  },
  {
   "cell_type": "code",
   "execution_count": 20,
   "id": "d37fc6e2",
   "metadata": {},
   "outputs": [
    {
     "name": "stdout",
     "output_type": "stream",
     "text": [
      "(1, 2, 3, 4, 5, 6, 7, 'Banana', 'Apple', True)\n"
     ]
    }
   ],
   "source": [
    "# 5. Concatenate two tuples and print the result.\n",
    "tup_one=(1, 2, 3, 4, 5, 6, 7)\n",
    "tup_two=(\"Banana\", \"Apple\", True)\n",
    "con_tup=tup_one+tup_two\n",
    "print(con_tup)"
   ]
  },
  {
   "cell_type": "code",
   "execution_count": 21,
   "id": "05d5cf8e",
   "metadata": {},
   "outputs": [
    {
     "name": "stdout",
     "output_type": "stream",
     "text": [
      "4\n"
     ]
    }
   ],
   "source": [
    "# 6. Find the length of a tuple.\n",
    "my_tup=(1, 3, 4, \"Banana\")\n",
    "print( len(my_tup))"
   ]
  },
  {
   "cell_type": "code",
   "execution_count": 24,
   "id": "a4c0e006",
   "metadata": {},
   "outputs": [
    {
     "name": "stdout",
     "output_type": "stream",
     "text": [
      "<class 'list'>\n",
      "('Apple', 2, 3, 4, True)\n",
      "<class 'tuple'>\n"
     ]
    }
   ],
   "source": [
    "# 7. Convert a list to a tuple.\n",
    "lst=[\"Apple\", 2, 3, 4, True]\n",
    "print(type(lst))\n",
    "my_tup=tuple(lst)\n",
    "print(my_tup)\n",
    "print(type(my_tup))\n"
   ]
  },
  {
   "cell_type": "code",
   "execution_count": 27,
   "id": "df6ecd1c",
   "metadata": {},
   "outputs": [
    {
     "name": "stdout",
     "output_type": "stream",
     "text": [
      "('banana', '1', '2', '3', 'True')\n"
     ]
    }
   ],
   "source": [
    "# 8. Create a tuple from user inputs and print it.\n",
    "data=input(\"Enter elemets by spaces: \")\n",
    "my_tup=tuple(data.split())\n",
    "print(my_tup)\n"
   ]
  },
  {
   "cell_type": "code",
   "execution_count": 29,
   "id": "98932622",
   "metadata": {},
   "outputs": [
    {
     "name": "stdout",
     "output_type": "stream",
     "text": [
      "maximum no is:  99\n",
      "Minimun no is: 0\n"
     ]
    }
   ],
   "source": [
    "# 9. Find the maximum and minimum values in a tuple of numbers.\n",
    "my_tup=(1, 2, 3, 4, 7, 99, 0)\n",
    "max_num=max(my_tup)\n",
    "min_num=min(my_tup)\n",
    "print(\"maximum no is: \", max_num)\n",
    "print(\"Minimun no is:\", min_num)"
   ]
  },
  {
   "cell_type": "code",
   "execution_count": 36,
   "id": "1be0d599",
   "metadata": {},
   "outputs": [
    {
     "name": "stdout",
     "output_type": "stream",
     "text": [
      "2\n"
     ]
    }
   ],
   "source": [
    "# 10. Count the occurrences of an element in a tuple.\n",
    "my_tup=(1, 2, 33, 4, 5, 9, 88, 33)\n",
    "ele=int(input(\"Enter the element you want to find the occurrence of \"))\n",
    "count=0\n",
    "for i in my_tup:\n",
    "    if i ==ele:\n",
    "     count+=1\n",
    "    \n",
    "print(count)\n",
    "    \n"
   ]
  },
  {
   "cell_type": "code",
   "execution_count": 42,
   "id": "5a506ddb",
   "metadata": {},
   "outputs": [
    {
     "name": "stdout",
     "output_type": "stream",
     "text": [
      "Element not found\n"
     ]
    }
   ],
   "source": [
    "# 11. Find the index of a specific element in a tuple.\n",
    "my_tuple=(1, 2, 3, 4, 5, 8)\n",
    "ele=input(\"Enter the element  to find the index: \")\n",
    "if ele.isdigit():\n",
    "    ele=int(ele)\n",
    "if ele in my_tup:\n",
    "    indx=my_tup.index(ele)\n",
    "    print(f\"{ele} found at index {indx}\")\n",
    "else:\n",
    "    print(\"Element not found\")\n"
   ]
  },
  {
   "cell_type": "code",
   "execution_count": 43,
   "id": "89289248",
   "metadata": {},
   "outputs": [
    {
     "name": "stdout",
     "output_type": "stream",
     "text": [
      "1\n",
      "3\n",
      "4\n",
      "Banana\n",
      "7\n"
     ]
    }
   ],
   "source": [
    "# 12. Print all elements of a tuple using a loop.\n",
    "my_tup=(1, 3, 4, \"Banana\", 7)\n",
    "for i in my_tup:\n",
    "    print(i)"
   ]
  },
  {
   "cell_type": "code",
   "execution_count": null,
   "id": "7a29bd52",
   "metadata": {},
   "outputs": [
    {
     "name": "stdout",
     "output_type": "stream",
     "text": [
      "Banana\n",
      "Apple\n",
      "Orange\n"
     ]
    }
   ],
   "source": [
    "# 13. Unpack a tuple into individual variables and print them.\n",
    "my_tup=(\"Banana\", \"Apple\", \"Orange\")\n",
    "(kela, seb, santara)=my_tup\n",
    "print(kela)\n",
    "print(seb)\n",
    "print(santara)  #and there is also one more method *rest=my_tup used to print remaning together "
   ]
  },
  {
   "cell_type": "code",
   "execution_count": null,
   "id": "d9dc4853",
   "metadata": {},
   "outputs": [
    {
     "name": "stdout",
     "output_type": "stream",
     "text": [
      "OrangePersonElementHii\n"
     ]
    }
   ],
   "source": [
    "# 14. Convert a tuple of strings into a single concatenated string.\n",
    "my_tup=(\"Orange\", \"Person\", \"Element\", \"Hii\")\n",
    "result=\" \".join(my_tup)\n",
    "print(result)"
   ]
  },
  {
   "cell_type": "code",
   "execution_count": null,
   "id": "187b8524",
   "metadata": {},
   "outputs": [
    {
     "name": "stdout",
     "output_type": "stream",
     "text": [
      "('Orange', 'Banana', 4, 3, 1)\n"
     ]
    }
   ],
   "source": [
    "# 15. Reverse a tuple and print it.\n",
    "my_tup=(1, 3, 4, \"Banana\", \"Orange\")\n",
    "rev_tup= my_tup[::-1] #also by using rev_tup=tuple(reversed(my_tup))\n",
    "print(rev_tup)"
   ]
  },
  {
   "cell_type": "code",
   "execution_count": null,
   "id": "d980e9de",
   "metadata": {},
   "outputs": [
    {
     "name": "stdout",
     "output_type": "stream",
     "text": [
      "Yes they are equal\n"
     ]
    }
   ],
   "source": [
    "# 16. Check if two tuples are equal.\n",
    "#Hard Code\n",
    "# tup1=(1, 2, 3, 4, 5, 56)\n",
    "# tup2=(1, 2, 3, 4, 5, 56)\n",
    "   #using if-else:\n",
    "# if tup1==tup2: \n",
    "#     print(\"Equal\")\n",
    "# else:\n",
    "#     print(\"Not Equal\")\n",
    " #using ==\n",
    "# print(tup1==tup2)\n",
    "data1=input(\"Enter the values of first tuple (space for seperation)\")\n",
    "tup1=tuple(data1.split())\n",
    "data2=input(\"Enter the values of second tuple (space for seperation)\")\n",
    "tup2=tuple(data2.split())\n",
    "if(tup1 == tup2):\n",
    "    print(\"Yes they are equal\")\n",
    "else:\n",
    "    print(\"Tuples are not equal\")"
   ]
  },
  {
   "cell_type": "code",
   "execution_count": 60,
   "id": "8861a8ef",
   "metadata": {},
   "outputs": [
    {
     "name": "stdout",
     "output_type": "stream",
     "text": [
      "144\n"
     ]
    }
   ],
   "source": [
    "# 17. Find the sum of all elements in a tuple.\n",
    "my_tup=(1, 2, 34, 8, 99)\n",
    "print(sum(my_tup))\n"
   ]
  },
  {
   "cell_type": "code",
   "execution_count": 62,
   "id": "b8e1745d",
   "metadata": {},
   "outputs": [
    {
     "name": "stdout",
     "output_type": "stream",
     "text": [
      "('Banana', 2, 4, 5, 77)\n"
     ]
    }
   ],
   "source": [
    "# 18. Convert a tuple into a list, modify an element, and convert it back.\n",
    "my_tup=(1, 2, 4, 5, 77)\n",
    "lst=list(my_tup)\n",
    "lst[0]=\"Banana\"\n",
    "my_tup=tuple(lst)\n",
    "print(my_tup)"
   ]
  },
  {
   "cell_type": "code",
   "execution_count": null,
   "id": "9b1b0acd",
   "metadata": {},
   "outputs": [
    {
     "name": "stdout",
     "output_type": "stream",
     "text": [
      "1 <class 'int'>\n",
      "3 <class 'int'>\n",
      "4 <class 'int'>\n",
      "Banana <class 'str'>\n",
      "29 <class 'int'>\n",
      "True <class 'bool'>\n",
      "[1, 2, 4] <class 'list'>\n"
     ]
    }
   ],
   "source": [
    "# 19. Create a tuple with mixed data types and print each element.\n",
    "my_tup=(1, 3, 4, \"Banana\", 29, True, [1, 2, 4]) #tuple can contain any python object\n",
    "for i in my_tup:\n",
    "    print(i, type(  i))"
   ]
  },
  {
   "cell_type": "code",
   "execution_count": 67,
   "id": "7fa546f4",
   "metadata": {},
   "outputs": [
    {
     "name": "stdout",
     "output_type": "stream",
     "text": [
      "(1, 2, 3, 4, 5, 9)\n"
     ]
    }
   ],
   "source": [
    "# 20. Create a tuple with duplicate elements. Remove duplicates and print the result.\n",
    "my_tup=(1, 2, 3, 3, 4, 5, 3, 5, 9) #use fromkeys to maintain the order\n",
    "unique=tuple(set(my_tup))\n",
    "print(unique)"
   ]
  },
  {
   "cell_type": "code",
   "execution_count": 72,
   "id": "3f94c9ef",
   "metadata": {},
   "outputs": [
    {
     "name": "stdout",
     "output_type": "stream",
     "text": [
      "(5, 10, 15, 20, 25, 30, 35, 40, 45, 50)\n"
     ]
    }
   ],
   "source": [
    "# 21. Create a tuple with the first 10 multiples of 5.\n",
    "my_tup=tuple((5*x for x in range(1, 11)))\n",
    "print(my_tup)"
   ]
  },
  {
   "cell_type": "code",
   "execution_count": null,
   "id": "e2953208",
   "metadata": {},
   "outputs": [
    {
     "name": "stdout",
     "output_type": "stream",
     "text": [
      "(0, 3, 3, 4, 5, 9, 99, 3, 3, 4, 5, 9, 99, 1)\n"
     ]
    }
   ],
   "source": [
    "# 22. Swap the first and last elements of a tuple.\n",
    "my_tup=(1, 3, 3,4 , 5, 9, 99, 0)\n",
    "swapped=(my_tup[-1], )+my_tup[1: -1]+my_tup[1:-1]+ (my_tup[0],) #UNDERDTAND THE LOGIC \n",
    "print(swapped)"
   ]
  },
  {
   "cell_type": "code",
   "execution_count": 84,
   "id": "683c29a7",
   "metadata": {},
   "outputs": [
    {
     "name": "stdout",
     "output_type": "stream",
     "text": [
      "Yes They have comman elements\n"
     ]
    }
   ],
   "source": [
    "# 23. Check if two tuples have any common elements.\n",
    "tup1=(1, 2, 3, 4, 5, 7)\n",
    "tup2=(9, 8, 6,3)#Even a single element should not be same for not being coommon\n",
    "if set(tup1) & set(tup2):\n",
    "    print(\"Yes They have comman elements\")\n",
    "else:\n",
    "    print(\"no they don't have \")"
   ]
  },
  {
   "cell_type": "code",
   "execution_count": 86,
   "id": "3cc40e64",
   "metadata": {},
   "outputs": [
    {
     "name": "stdout",
     "output_type": "stream",
     "text": [
      "60\n"
     ]
    }
   ],
   "source": [
    "# 24. Find the product of all elements in a tuple.\n",
    "my_tup=(1, 3, 4, 5)\n",
    "product=1\n",
    "for i in my_tup:\n",
    "    product *= i\n",
    "print(product)"
   ]
  },
  {
   "cell_type": "code",
   "execution_count": 89,
   "id": "9087d3f1",
   "metadata": {},
   "outputs": [
    {
     "name": "stdout",
     "output_type": "stream",
     "text": [
      "(2, 4, 5, 9, 9, 22, 0)\n",
      "(4, 5, 9, 9, 22, 0)\n",
      "(2, 4, 5, 9)\n",
      "(2, 4, 5)\n"
     ]
    }
   ],
   "source": [
    "# 25. Slice a tuple to extract specific elements.\n",
    "my_tup=(2, 4, 5, 9, 9,22,0)\n",
    "print(my_tup[0:])\n",
    "print(my_tup[1:])\n",
    "print(my_tup[0:4])\n",
    "print(my_tup[:3])\n"
   ]
  }
 ],
 "metadata": {
  "kernelspec": {
   "display_name": "Python 3",
   "language": "python",
   "name": "python3"
  },
  "language_info": {
   "codemirror_mode": {
    "name": "ipython",
    "version": 3
   },
   "file_extension": ".py",
   "mimetype": "text/x-python",
   "name": "python",
   "nbconvert_exporter": "python",
   "pygments_lexer": "ipython3",
   "version": "3.13.5"
  }
 },
 "nbformat": 4,
 "nbformat_minor": 5
}
