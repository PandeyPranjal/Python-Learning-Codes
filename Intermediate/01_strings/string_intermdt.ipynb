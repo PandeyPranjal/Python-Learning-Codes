{
 "cells": [
  {
   "cell_type": "code",
   "execution_count": null,
   "id": "19f4980a",
   "metadata": {},
   "outputs": [],
   "source": [
    "# 21. Write a program to find the longest substring without repeating characters.\n"
   ]
  },
  {
   "cell_type": "code",
   "execution_count": null,
   "id": "0d7c464f",
   "metadata": {},
   "outputs": [],
   "source": [
    "# 22. How do you implement string compression using the counts of repeated characters?"
   ]
  },
  {
   "cell_type": "code",
   "execution_count": null,
   "id": "eb902ee3",
   "metadata": {},
   "outputs": [],
   "source": [
    "# 23. Write a function to find the longest palindrome substring in a given string."
   ]
  },
  {
   "cell_type": "code",
   "execution_count": null,
   "id": "00002ace",
   "metadata": {},
   "outputs": [],
   "source": [
    "# 24. How do you check if a string is a valid number?"
   ]
  },
  {
   "cell_type": "code",
   "execution_count": null,
   "id": "97722ab2",
   "metadata": {},
   "outputs": [],
   "source": [
    "# 25. Write a program to find the common characters in two strings."
   ]
  },
  {
   "cell_type": "code",
   "execution_count": null,
   "id": "0daad0ca",
   "metadata": {},
   "outputs": [],
   "source": [
    "# 26. How do you implement the 'strStr()' function to find a substring?"
   ]
  },
  {
   "cell_type": "code",
   "execution_count": null,
   "id": "b96b75e1",
   "metadata": {},
   "outputs": [],
   "source": [
    "# 27. Write a program to perform run-length encoding on a string."
   ]
  },
  {
   "cell_type": "code",
   "execution_count": null,
   "id": "4a3277f9",
   "metadata": {},
   "outputs": [],
   "source": [
    "# 28. How do you find the maximum occurring character in a string?"
   ]
  },
  {
   "cell_type": "code",
   "execution_count": null,
   "id": "14d736d6",
   "metadata": {},
   "outputs": [],
   "source": [
    "# 29. Write a function to find all permutations of a given string."
   ]
  },
  {
   "cell_type": "code",
   "execution_count": null,
   "id": "c9ab18cb",
   "metadata": {},
   "outputs": [],
   "source": [
    "# 30. How do you check if one string is a rotation of another?"
   ]
  },
  {
   "cell_type": "code",
   "execution_count": null,
   "id": "febcc44a",
   "metadata": {},
   "outputs": [],
   "source": [
    "# 31. Write a program to implement a basic text editor that supports basic string operations."
   ]
  },
  {
   "cell_type": "code",
   "execution_count": null,
   "id": "c73b02d3",
   "metadata": {},
   "outputs": [],
   "source": [
    "# 32. How do you find the shortest substring containing all characters of another string?"
   ]
  },
  {
   "cell_type": "code",
   "execution_count": null,
   "id": "4d761508",
   "metadata": {},
   "outputs": [],
   "source": [
    "# 33. Write a function to generate all possible subsets of a given string."
   ]
  },
  {
   "cell_type": "code",
   "execution_count": null,
   "id": "316e23ff",
   "metadata": {},
   "outputs": [],
   "source": [
    "# 34. How do you replace all occurrences of a character in a string with another character?"
   ]
  },
  {
   "cell_type": "code",
   "execution_count": null,
   "id": "596821a3",
   "metadata": {},
   "outputs": [],
   "source": [
    "# 35. Write a program to group anagrams from a list of strings."
   ]
  },
  {
   "cell_type": "code",
   "execution_count": null,
   "id": "74001551",
   "metadata": {},
   "outputs": [],
   "source": [
    "# 36. How do you implement the string 'find' function?"
   ]
  },
  {
   "cell_type": "code",
   "execution_count": null,
   "id": "59091bf5",
   "metadata": {},
   "outputs": [],
   "source": [
    "# 37. Write a function to convert a string into a list of characters."
   ]
  },
  {
   "cell_type": "code",
   "execution_count": null,
   "id": "0ca66356",
   "metadata": {},
   "outputs": [],
   "source": [
    "# 38. How do you determine if two strings are rotations of each other?"
   ]
  },
  {
   "cell_type": "code",
   "execution_count": null,
   "id": "41a57f2a",
   "metadata": {},
   "outputs": [],
   "source": [
    "# 39. Write a program to format a string according to specific rules (like a currency format)."
   ]
  },
  {
   "cell_type": "code",
   "execution_count": null,
   "id": "4be207f4",
   "metadata": {},
   "outputs": [],
   "source": [
    "# 40. How do you implement a basic string tokenizer?"
   ]
  }
 ],
 "metadata": {
  "language_info": {
   "name": "python"
  }
 },
 "nbformat": 4,
 "nbformat_minor": 5
}
